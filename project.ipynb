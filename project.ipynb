{
 "cells": [
  {
   "cell_type": "markdown",
   "id": "motivated-olympus",
   "metadata": {},
   "source": [
    "## Pedro Gabriel Fonseca\n",
    "\n",
    "Neste projeto, você responderemos a um conjunto de perguntas feitas a dois conjuntos de dados: \n",
    "(Ideia do exercício projetado com ajuda do CHATGPT para meu estudo pessoal)\n",
    "1. [Obesity among adults by country, 1975-2016](https://www.kaggle.com/amanarora/obesity-among-adults-by-country-19752016/)\n",
    "2. [GDP Per Person (1901-2011)](https://www.kaggle.com/divyansh22/gdp-per-person-19012011?select=GDP.csv)\n",
    "\n",
    "Tais conjuntos de dados são públicos foram publicados no Kaggle. Mais instruções sobre cada um deles podem ser encontrados nos links acima. Você também os encontrará na pasta `Datasets`, dentro de nossas apostilas."
   ]
  },
  {
   "cell_type": "code",
   "execution_count": 177,
   "id": "million-survival",
   "metadata": {},
   "outputs": [],
   "source": [
    "import pandas as pd\n",
    "import numpy as np"
   ]
  },
  {
   "cell_type": "markdown",
   "id": "becoming-princeton",
   "metadata": {},
   "source": [
    "## Perguntas - Obesity among adults by country, 1975-2016"
   ]
  },
  {
   "cell_type": "code",
   "execution_count": 178,
   "id": "formal-heater",
   "metadata": {},
   "outputs": [],
   "source": [
    "df_obesity = pd.read_csv(\"/Users/pedrogab/Documents/ASIMOV/Analisando Dados com Pandas & SQL/Analisando Dados com Pandas & SQL/projetos/analise-de-obesidade-e-pib-per-capita/Datasets/obesity_cleaned.csv\")\n"
   ]
  },
  {
   "cell_type": "code",
   "execution_count": 179,
   "id": "f1f5a7b7",
   "metadata": {},
   "outputs": [
    {
     "data": {
      "text/plain": [
       "Index(['Unnamed: 0', 'Country', 'Year', 'Obesity (%)', 'Sex'], dtype='object')"
      ]
     },
     "execution_count": 179,
     "metadata": {},
     "output_type": "execute_result"
    }
   ],
   "source": [
    "df_obesity.columns"
   ]
  },
  {
   "cell_type": "markdown",
   "id": "1a6c5e90",
   "metadata": {},
   "source": [
    "- Limpe os dados do DataFrame, criando uma coluna de nome 'Obesity' que conterá os valores de obesidade. Transforme em float as colunas que porventura foram importadas como string."
   ]
  },
  {
   "cell_type": "code",
   "execution_count": 180,
   "id": "daa3d09a",
   "metadata": {},
   "outputs": [],
   "source": [
    "del df_obesity[\"Unnamed: 0\"]\n",
    "df_obesity[\"Obesity\"] = df_obesity[\"Obesity (%)\"].apply(lambda x: x.split(\" \")[0])\n",
    "\n",
    "df_obesity.loc[df_obesity[\"Obesity\"] == \"No\", \"Obesity\"] = np.nan\n",
    "df_obesity.dropna(inplace=True)"
   ]
  },
  {
   "cell_type": "code",
   "execution_count": 181,
   "id": "78f3f418",
   "metadata": {},
   "outputs": [],
   "source": [
    "df_obesity[\"Obesity\"] = df_obesity[\"Obesity\"].apply(lambda x: float(x))\n",
    "df_obesity[\"Year\"] = df_obesity[\"Year\"].apply(lambda x: int(x))\n",
    "df_obesity.set_index(\"Year\" ,inplace=True)"
   ]
  },
  {
   "cell_type": "markdown",
   "id": "voluntary-temperature",
   "metadata": {},
   "source": [
    "- Qual o percentual médio de obesidade por sexo no mundo no ano de 2015?"
   ]
  },
  {
   "cell_type": "code",
   "execution_count": 187,
   "id": "07f55c46",
   "metadata": {},
   "outputs": [
    {
     "data": {
      "text/html": [
       "<div>\n",
       "<style scoped>\n",
       "    .dataframe tbody tr th:only-of-type {\n",
       "        vertical-align: middle;\n",
       "    }\n",
       "\n",
       "    .dataframe tbody tr th {\n",
       "        vertical-align: top;\n",
       "    }\n",
       "\n",
       "    .dataframe thead th {\n",
       "        text-align: right;\n",
       "    }\n",
       "</style>\n",
       "<table border=\"1\" class=\"dataframe\">\n",
       "  <thead>\n",
       "    <tr style=\"text-align: right;\">\n",
       "      <th></th>\n",
       "      <th>Obesity</th>\n",
       "    </tr>\n",
       "    <tr>\n",
       "      <th>Sex</th>\n",
       "      <th></th>\n",
       "    </tr>\n",
       "  </thead>\n",
       "  <tbody>\n",
       "    <tr>\n",
       "      <th>Both sexes</th>\n",
       "      <td>19.508377</td>\n",
       "    </tr>\n",
       "    <tr>\n",
       "      <th>Female</th>\n",
       "      <td>22.899476</td>\n",
       "    </tr>\n",
       "    <tr>\n",
       "      <th>Male</th>\n",
       "      <td>15.980628</td>\n",
       "    </tr>\n",
       "  </tbody>\n",
       "</table>\n",
       "</div>"
      ],
      "text/plain": [
       "              Obesity\n",
       "Sex                  \n",
       "Both sexes  19.508377\n",
       "Female      22.899476\n",
       "Male        15.980628"
      ]
     },
     "execution_count": 187,
     "metadata": {},
     "output_type": "execute_result"
    }
   ],
   "source": [
    "df_obesity[df_obesity.index == 2015].groupby(\"Sex\").mean(numeric_only=True)\n"
   ]
  },
  {
   "cell_type": "markdown",
   "id": "expected-kruger",
   "metadata": {},
   "source": [
    "- Quais são os 5 países com a maior e a menor taxa de aumento nos índices de obesidade no período observado?"
   ]
  },
  {
   "cell_type": "code",
   "execution_count": 189,
   "id": "8ef001e3",
   "metadata": {},
   "outputs": [],
   "source": [
    "df_obesity_start = df_obesity[df_obesity.index== 1975]\n",
    "df_obesity_end = df_obesity[df_obesity.index== 2016]"
   ]
  },
  {
   "cell_type": "code",
   "execution_count": 191,
   "id": "1583cc34",
   "metadata": {},
   "outputs": [],
   "source": [
    "df_obesity_start.set_index(\"Country\", inplace=True)\n",
    "df_obesity_end.set_index(\"Country\", inplace=True)"
   ]
  },
  {
   "cell_type": "code",
   "execution_count": null,
   "id": "553d737c",
   "metadata": {},
   "outputs": [],
   "source": [
    "df_obesity_ev = df_obesity_end[df_obesity_end[\"Sex\"] == \"Both sexes\"][\"Obesity\"] - df_obesity_start[df_obesity_start[\"Sex\"] == \"Both sexes\"][\"Obesity\"]"
   ]
  },
  {
   "cell_type": "code",
   "execution_count": 198,
   "id": "a288dd5d",
   "metadata": {},
   "outputs": [
    {
     "data": {
      "text/plain": [
       "Country\n",
       "Cook Islands    27.9\n",
       "Tonga           28.3\n",
       "Kiribati        30.1\n",
       "Niue            31.1\n",
       "Tuvalu          33.7\n",
       "Name: Obesity, dtype: float64"
      ]
     },
     "execution_count": 198,
     "metadata": {},
     "output_type": "execute_result"
    }
   ],
   "source": [
    "df_obesity_ev.sort_values().head(5)\n",
    "df_obesity_ev.sort_values().tail(5)"
   ]
  },
  {
   "cell_type": "markdown",
   "id": "efficient-buyer",
   "metadata": {},
   "source": [
    "- Quais os países com maiores e menores níveis percetuais de obesidade em 2015?"
   ]
  },
  {
   "cell_type": "code",
   "execution_count": 199,
   "id": "violent-warren",
   "metadata": {},
   "outputs": [],
   "source": [
    "df_2015 = df_obesity[df_obesity.index == 2015]\n",
    "\n"
   ]
  },
  {
   "cell_type": "code",
   "execution_count": 202,
   "id": "07574d03",
   "metadata": {},
   "outputs": [
    {
     "data": {
      "text/html": [
       "<div>\n",
       "<style scoped>\n",
       "    .dataframe tbody tr th:only-of-type {\n",
       "        vertical-align: middle;\n",
       "    }\n",
       "\n",
       "    .dataframe tbody tr th {\n",
       "        vertical-align: top;\n",
       "    }\n",
       "\n",
       "    .dataframe thead th {\n",
       "        text-align: right;\n",
       "    }\n",
       "</style>\n",
       "<table border=\"1\" class=\"dataframe\">\n",
       "  <thead>\n",
       "    <tr style=\"text-align: right;\">\n",
       "      <th></th>\n",
       "      <th>Country</th>\n",
       "      <th>Obesity (%)</th>\n",
       "      <th>Sex</th>\n",
       "      <th>Obesity</th>\n",
       "    </tr>\n",
       "    <tr>\n",
       "      <th>Year</th>\n",
       "      <th></th>\n",
       "      <th></th>\n",
       "      <th></th>\n",
       "      <th></th>\n",
       "    </tr>\n",
       "  </thead>\n",
       "  <tbody>\n",
       "    <tr>\n",
       "      <th>2015</th>\n",
       "      <td>Nauru</td>\n",
       "      <td>63.1 [55.5-70.3]</td>\n",
       "      <td>Female</td>\n",
       "      <td>63.1</td>\n",
       "    </tr>\n",
       "  </tbody>\n",
       "</table>\n",
       "</div>"
      ],
      "text/plain": [
       "     Country       Obesity (%)     Sex  Obesity\n",
       "Year                                           \n",
       "2015   Nauru  63.1 [55.5-70.3]  Female     63.1"
      ]
     },
     "execution_count": 202,
     "metadata": {},
     "output_type": "execute_result"
    }
   ],
   "source": [
    "df_2015[df_2015[\"Obesity\"]== df_2015[\"Obesity\"].max()]"
   ]
  },
  {
   "cell_type": "code",
   "execution_count": 203,
   "id": "9fbb1e53",
   "metadata": {},
   "outputs": [
    {
     "data": {
      "text/html": [
       "<div>\n",
       "<style scoped>\n",
       "    .dataframe tbody tr th:only-of-type {\n",
       "        vertical-align: middle;\n",
       "    }\n",
       "\n",
       "    .dataframe tbody tr th {\n",
       "        vertical-align: top;\n",
       "    }\n",
       "\n",
       "    .dataframe thead th {\n",
       "        text-align: right;\n",
       "    }\n",
       "</style>\n",
       "<table border=\"1\" class=\"dataframe\">\n",
       "  <thead>\n",
       "    <tr style=\"text-align: right;\">\n",
       "      <th></th>\n",
       "      <th>Country</th>\n",
       "      <th>Obesity (%)</th>\n",
       "      <th>Sex</th>\n",
       "      <th>Obesity</th>\n",
       "    </tr>\n",
       "    <tr>\n",
       "      <th>Year</th>\n",
       "      <th></th>\n",
       "      <th></th>\n",
       "      <th></th>\n",
       "      <th></th>\n",
       "    </tr>\n",
       "  </thead>\n",
       "  <tbody>\n",
       "    <tr>\n",
       "      <th>2015</th>\n",
       "      <td>Viet Nam</td>\n",
       "      <td>1.5 [0.8-2.5]</td>\n",
       "      <td>Male</td>\n",
       "      <td>1.5</td>\n",
       "    </tr>\n",
       "  </tbody>\n",
       "</table>\n",
       "</div>"
      ],
      "text/plain": [
       "       Country    Obesity (%)   Sex  Obesity\n",
       "Year                                        \n",
       "2015  Viet Nam  1.5 [0.8-2.5]  Male      1.5"
      ]
     },
     "execution_count": 203,
     "metadata": {},
     "output_type": "execute_result"
    }
   ],
   "source": [
    "df_2015[df_2015[\"Obesity\"]== df_2015[\"Obesity\"].min()]"
   ]
  },
  {
   "cell_type": "markdown",
   "id": "average-holiday",
   "metadata": {},
   "source": [
    "- Qual a diferença média percentual de obesidade entre sexos ao longo dos anos para o Brasil?"
   ]
  },
  {
   "cell_type": "code",
   "execution_count": 212,
   "id": "later-occurrence",
   "metadata": {},
   "outputs": [],
   "source": [
    "df_brasil = df_obesity[df_obesity[\"Country\"]== \"Brazil\"]"
   ]
  },
  {
   "cell_type": "code",
   "execution_count": 215,
   "id": "389bc87d",
   "metadata": {},
   "outputs": [
    {
     "data": {
      "text/plain": [
       "<Axes: xlabel='Year'>"
      ]
     },
     "execution_count": 215,
     "metadata": {},
     "output_type": "execute_result"
    },
    {
     "data": {
      "image/png": "[encoded data removed]",
      "text/plain": [
       "<Figure size 640x480 with 1 Axes>"
      ]
     },
     "metadata": {},
     "output_type": "display_data"
    }
   ],
   "source": [
    "(df_brasil[df_brasil[\"Sex\"]==\"Female\"][\"Obesity\"] - df_brasil[df_brasil[\"Sex\"]==\"Male\"][\"Obesity\"]).plot()"
   ]
  },
  {
   "cell_type": "markdown",
   "id": "rising-exhaust",
   "metadata": {},
   "source": [
    "- Você conseguiria plotar um gráfico mostrando a evolução da obesidade para ambos sexos no mundo?"
   ]
  },
  {
   "cell_type": "code",
   "execution_count": null,
   "id": "senior-recruitment",
   "metadata": {},
   "outputs": [
    {
     "data": {
      "text/html": [
       "<div>\n",
       "<style scoped>\n",
       "    .dataframe tbody tr th:only-of-type {\n",
       "        vertical-align: middle;\n",
       "    }\n",
       "\n",
       "    .dataframe tbody tr th {\n",
       "        vertical-align: top;\n",
       "    }\n",
       "\n",
       "    .dataframe thead th {\n",
       "        text-align: right;\n",
       "    }\n",
       "</style>\n",
       "<table border=\"1\" class=\"dataframe\">\n",
       "  <thead>\n",
       "    <tr style=\"text-align: right;\">\n",
       "      <th></th>\n",
       "      <th>Country</th>\n",
       "      <th>Obesity (%)</th>\n",
       "      <th>Sex</th>\n",
       "      <th>Obesity</th>\n",
       "    </tr>\n",
       "    <tr>\n",
       "      <th>Year</th>\n",
       "      <th></th>\n",
       "      <th></th>\n",
       "      <th></th>\n",
       "      <th></th>\n",
       "    </tr>\n",
       "  </thead>\n",
       "  <tbody>\n",
       "    <tr>\n",
       "      <th>1975</th>\n",
       "      <td>Afghanistan</td>\n",
       "      <td>0.5 [0.2-1.1]</td>\n",
       "      <td>Both sexes</td>\n",
       "      <td>0.5</td>\n",
       "    </tr>\n",
       "    <tr>\n",
       "      <th>1976</th>\n",
       "      <td>Afghanistan</td>\n",
       "      <td>0.5 [0.2-1.1]</td>\n",
       "      <td>Both sexes</td>\n",
       "      <td>0.5</td>\n",
       "    </tr>\n",
       "    <tr>\n",
       "      <th>1977</th>\n",
       "      <td>Afghanistan</td>\n",
       "      <td>0.6 [0.2-1.2]</td>\n",
       "      <td>Both sexes</td>\n",
       "      <td>0.6</td>\n",
       "    </tr>\n",
       "    <tr>\n",
       "      <th>1978</th>\n",
       "      <td>Afghanistan</td>\n",
       "      <td>0.6 [0.2-1.3]</td>\n",
       "      <td>Both sexes</td>\n",
       "      <td>0.6</td>\n",
       "    </tr>\n",
       "    <tr>\n",
       "      <th>1979</th>\n",
       "      <td>Afghanistan</td>\n",
       "      <td>0.6 [0.3-1.3]</td>\n",
       "      <td>Both sexes</td>\n",
       "      <td>0.6</td>\n",
       "    </tr>\n",
       "    <tr>\n",
       "      <th>...</th>\n",
       "      <td>...</td>\n",
       "      <td>...</td>\n",
       "      <td>...</td>\n",
       "      <td>...</td>\n",
       "    </tr>\n",
       "    <tr>\n",
       "      <th>2012</th>\n",
       "      <td>Zimbabwe</td>\n",
       "      <td>14.3 [11.4-17.6]</td>\n",
       "      <td>Both sexes</td>\n",
       "      <td>14.3</td>\n",
       "    </tr>\n",
       "    <tr>\n",
       "      <th>2013</th>\n",
       "      <td>Zimbabwe</td>\n",
       "      <td>14.6 [11.5-18.0]</td>\n",
       "      <td>Both sexes</td>\n",
       "      <td>14.6</td>\n",
       "    </tr>\n",
       "    <tr>\n",
       "      <th>2014</th>\n",
       "      <td>Zimbabwe</td>\n",
       "      <td>14.9 [11.7-18.4]</td>\n",
       "      <td>Both sexes</td>\n",
       "      <td>14.9</td>\n",
       "    </tr>\n",
       "    <tr>\n",
       "      <th>2015</th>\n",
       "      <td>Zimbabwe</td>\n",
       "      <td>15.2 [11.9-18.8]</td>\n",
       "      <td>Both sexes</td>\n",
       "      <td>15.2</td>\n",
       "    </tr>\n",
       "    <tr>\n",
       "      <th>2016</th>\n",
       "      <td>Zimbabwe</td>\n",
       "      <td>15.5 [12.0-19.2]</td>\n",
       "      <td>Both sexes</td>\n",
       "      <td>15.5</td>\n",
       "    </tr>\n",
       "  </tbody>\n",
       "</table>\n",
       "<p>8022 rows × 4 columns</p>\n",
       "</div>"
      ],
      "text/plain": [
       "          Country       Obesity (%)         Sex  Obesity\n",
       "Year                                                    \n",
       "1975  Afghanistan     0.5 [0.2-1.1]  Both sexes      0.5\n",
       "1976  Afghanistan     0.5 [0.2-1.1]  Both sexes      0.5\n",
       "1977  Afghanistan     0.6 [0.2-1.2]  Both sexes      0.6\n",
       "1978  Afghanistan     0.6 [0.2-1.3]  Both sexes      0.6\n",
       "1979  Afghanistan     0.6 [0.3-1.3]  Both sexes      0.6\n",
       "...           ...               ...         ...      ...\n",
       "2012     Zimbabwe  14.3 [11.4-17.6]  Both sexes     14.3\n",
       "2013     Zimbabwe  14.6 [11.5-18.0]  Both sexes     14.6\n",
       "2014     Zimbabwe  14.9 [11.7-18.4]  Both sexes     14.9\n",
       "2015     Zimbabwe  15.2 [11.9-18.8]  Both sexes     15.2\n",
       "2016     Zimbabwe  15.5 [12.0-19.2]  Both sexes     15.5\n",
       "\n",
       "[8022 rows x 4 columns]"
      ]
     },
     "execution_count": 217,
     "metadata": {},
     "output_type": "execute_result"
    }
   ],
   "source": [
    "df_both = df_obesity[df_obesity[\"Sex\"]==\"Both sexes\"]"
   ]
  },
  {
   "cell_type": "code",
   "execution_count": 219,
   "id": "4a465616",
   "metadata": {},
   "outputs": [
    {
     "data": {
      "text/plain": [
       "<Axes: xlabel='Year'>"
      ]
     },
     "execution_count": 219,
     "metadata": {},
     "output_type": "execute_result"
    },
    {
     "data": {
      "image/png": "[encoded data removed]",
      "text/plain": [
       "<Figure size 640x480 with 1 Axes>"
      ]
     },
     "metadata": {},
     "output_type": "display_data"
    }
   ],
   "source": [
    "(df_both.groupby(\"Year\")[\"Obesity\"].mean()).plot()"
   ]
  },
  {
   "cell_type": "markdown",
   "id": "labeled-rainbow",
   "metadata": {},
   "source": [
    "## Perguntas - GDP Per Person (1901-2011)"
   ]
  },
  {
   "cell_type": "code",
   "execution_count": 182,
   "id": "thermal-breeding",
   "metadata": {},
   "outputs": [],
   "source": [
    "df_gdp = pd.read_csv(\"Datasets/GDP.csv\", decimal=\".\")"
   ]
  },
  {
   "cell_type": "code",
   "execution_count": 221,
   "id": "d2476d26",
   "metadata": {},
   "outputs": [
    {
     "data": {
      "text/html": [
       "<div>\n",
       "<style scoped>\n",
       "    .dataframe tbody tr th:only-of-type {\n",
       "        vertical-align: middle;\n",
       "    }\n",
       "\n",
       "    .dataframe tbody tr th {\n",
       "        vertical-align: top;\n",
       "    }\n",
       "\n",
       "    .dataframe thead th {\n",
       "        text-align: right;\n",
       "    }\n",
       "</style>\n",
       "<table border=\"1\" class=\"dataframe\">\n",
       "  <thead>\n",
       "    <tr style=\"text-align: right;\">\n",
       "      <th></th>\n",
       "      <th>Country</th>\n",
       "      <th>Region</th>\n",
       "      <th>Year</th>\n",
       "      <th>GDP_pp</th>\n",
       "    </tr>\n",
       "  </thead>\n",
       "  <tbody>\n",
       "    <tr>\n",
       "      <th>0</th>\n",
       "      <td>Afghanistan</td>\n",
       "      <td>Middle East, North Africa, and Greater Arabia</td>\n",
       "      <td>1/1/1901</td>\n",
       "      <td>613.99</td>\n",
       "    </tr>\n",
       "    <tr>\n",
       "      <th>1</th>\n",
       "      <td>Afghanistan</td>\n",
       "      <td>Middle East, North Africa, and Greater Arabia</td>\n",
       "      <td>1/1/1906</td>\n",
       "      <td>624.04</td>\n",
       "    </tr>\n",
       "    <tr>\n",
       "      <th>2</th>\n",
       "      <td>Afghanistan</td>\n",
       "      <td>Middle East, North Africa, and Greater Arabia</td>\n",
       "      <td>1/1/1911</td>\n",
       "      <td>634.25</td>\n",
       "    </tr>\n",
       "    <tr>\n",
       "      <th>3</th>\n",
       "      <td>Afghanistan</td>\n",
       "      <td>Middle East, North Africa, and Greater Arabia</td>\n",
       "      <td>1/1/1916</td>\n",
       "      <td>647.28</td>\n",
       "    </tr>\n",
       "    <tr>\n",
       "      <th>4</th>\n",
       "      <td>Afghanistan</td>\n",
       "      <td>Middle East, North Africa, and Greater Arabia</td>\n",
       "      <td>1/1/1921</td>\n",
       "      <td>662.40</td>\n",
       "    </tr>\n",
       "    <tr>\n",
       "      <th>...</th>\n",
       "      <td>...</td>\n",
       "      <td>...</td>\n",
       "      <td>...</td>\n",
       "      <td>...</td>\n",
       "    </tr>\n",
       "    <tr>\n",
       "      <th>4414</th>\n",
       "      <td>Zimbabwe</td>\n",
       "      <td>Sub-Saharan Africa</td>\n",
       "      <td>1/1/1991</td>\n",
       "      <td>782.09</td>\n",
       "    </tr>\n",
       "    <tr>\n",
       "      <th>4415</th>\n",
       "      <td>Zimbabwe</td>\n",
       "      <td>Sub-Saharan Africa</td>\n",
       "      <td>1/1/1996</td>\n",
       "      <td>781.50</td>\n",
       "    </tr>\n",
       "    <tr>\n",
       "      <th>4416</th>\n",
       "      <td>Zimbabwe</td>\n",
       "      <td>Sub-Saharan Africa</td>\n",
       "      <td>1/1/2001</td>\n",
       "      <td>719.96</td>\n",
       "    </tr>\n",
       "    <tr>\n",
       "      <th>4417</th>\n",
       "      <td>Zimbabwe</td>\n",
       "      <td>Sub-Saharan Africa</td>\n",
       "      <td>1/1/2006</td>\n",
       "      <td>520.17</td>\n",
       "    </tr>\n",
       "    <tr>\n",
       "      <th>4418</th>\n",
       "      <td>Zimbabwe</td>\n",
       "      <td>Sub-Saharan Africa</td>\n",
       "      <td>1/1/2011</td>\n",
       "      <td>526.33</td>\n",
       "    </tr>\n",
       "  </tbody>\n",
       "</table>\n",
       "<p>4419 rows × 4 columns</p>\n",
       "</div>"
      ],
      "text/plain": [
       "          Country                                         Region      Year  \\\n",
       "0     Afghanistan  Middle East, North Africa, and Greater Arabia  1/1/1901   \n",
       "1     Afghanistan  Middle East, North Africa, and Greater Arabia  1/1/1906   \n",
       "2     Afghanistan  Middle East, North Africa, and Greater Arabia  1/1/1911   \n",
       "3     Afghanistan  Middle East, North Africa, and Greater Arabia  1/1/1916   \n",
       "4     Afghanistan  Middle East, North Africa, and Greater Arabia  1/1/1921   \n",
       "...           ...                                            ...       ...   \n",
       "4414     Zimbabwe                             Sub-Saharan Africa  1/1/1991   \n",
       "4415     Zimbabwe                             Sub-Saharan Africa  1/1/1996   \n",
       "4416     Zimbabwe                             Sub-Saharan Africa  1/1/2001   \n",
       "4417     Zimbabwe                             Sub-Saharan Africa  1/1/2006   \n",
       "4418     Zimbabwe                             Sub-Saharan Africa  1/1/2011   \n",
       "\n",
       "       GDP_pp   \n",
       "0      613.99   \n",
       "1      624.04   \n",
       "2      634.25   \n",
       "3      647.28   \n",
       "4      662.40   \n",
       "...        ...  \n",
       "4414   782.09   \n",
       "4415   781.50   \n",
       "4416   719.96   \n",
       "4417   520.17   \n",
       "4418   526.33   \n",
       "\n",
       "[4419 rows x 4 columns]"
      ]
     },
     "execution_count": 221,
     "metadata": {},
     "output_type": "execute_result"
    }
   ],
   "source": [
    "df_gdp"
   ]
  },
  {
   "cell_type": "markdown",
   "id": "suffering-guitar",
   "metadata": {},
   "source": [
    "- Limpe o conjunto de dados, convertendo strings em datas ou float, quando necessário."
   ]
  },
  {
   "cell_type": "code",
   "execution_count": 228,
   "id": "80695073",
   "metadata": {},
   "outputs": [],
   "source": [
    "df_gdp[\"Year\"] = df_gdp[\"Year\"].apply(lambda x: int(x.split(\"/\")[-1]))"
   ]
  },
  {
   "cell_type": "code",
   "execution_count": 238,
   "id": "3d2ab0b2",
   "metadata": {},
   "outputs": [
    {
     "data": {
      "text/plain": [
       "613.99"
      ]
     },
     "execution_count": 238,
     "metadata": {},
     "output_type": "execute_result"
    }
   ],
   "source": [
    "float(df_gdp[\" GDP_pp \"].iloc[0].split()[0])"
   ]
  },
  {
   "cell_type": "code",
   "execution_count": 240,
   "id": "29c03ca6",
   "metadata": {},
   "outputs": [],
   "source": [
    "df_gdp[\"gdp_pp\"] = df_gdp[\" GDP_pp \"].apply(lambda x: float(x.split()[0].replace(\",\",\"\")))"
   ]
  },
  {
   "cell_type": "code",
   "execution_count": null,
   "id": "ffe68a3b",
   "metadata": {},
   "outputs": [],
   "source": [
    "del df_gdp[\" GDP_pp \"]"
   ]
  },
  {
   "cell_type": "code",
   "execution_count": 242,
   "id": "90fb4a3f",
   "metadata": {},
   "outputs": [
    {
     "data": {
      "text/html": [
       "<div>\n",
       "<style scoped>\n",
       "    .dataframe tbody tr th:only-of-type {\n",
       "        vertical-align: middle;\n",
       "    }\n",
       "\n",
       "    .dataframe tbody tr th {\n",
       "        vertical-align: top;\n",
       "    }\n",
       "\n",
       "    .dataframe thead th {\n",
       "        text-align: right;\n",
       "    }\n",
       "</style>\n",
       "<table border=\"1\" class=\"dataframe\">\n",
       "  <thead>\n",
       "    <tr style=\"text-align: right;\">\n",
       "      <th></th>\n",
       "      <th>Country</th>\n",
       "      <th>Region</th>\n",
       "      <th>Year</th>\n",
       "      <th>gdp_pp</th>\n",
       "    </tr>\n",
       "  </thead>\n",
       "  <tbody>\n",
       "    <tr>\n",
       "      <th>0</th>\n",
       "      <td>Afghanistan</td>\n",
       "      <td>Middle East, North Africa, and Greater Arabia</td>\n",
       "      <td>1901</td>\n",
       "      <td>613.99</td>\n",
       "    </tr>\n",
       "    <tr>\n",
       "      <th>1</th>\n",
       "      <td>Afghanistan</td>\n",
       "      <td>Middle East, North Africa, and Greater Arabia</td>\n",
       "      <td>1906</td>\n",
       "      <td>624.04</td>\n",
       "    </tr>\n",
       "    <tr>\n",
       "      <th>2</th>\n",
       "      <td>Afghanistan</td>\n",
       "      <td>Middle East, North Africa, and Greater Arabia</td>\n",
       "      <td>1911</td>\n",
       "      <td>634.25</td>\n",
       "    </tr>\n",
       "    <tr>\n",
       "      <th>3</th>\n",
       "      <td>Afghanistan</td>\n",
       "      <td>Middle East, North Africa, and Greater Arabia</td>\n",
       "      <td>1916</td>\n",
       "      <td>647.28</td>\n",
       "    </tr>\n",
       "    <tr>\n",
       "      <th>4</th>\n",
       "      <td>Afghanistan</td>\n",
       "      <td>Middle East, North Africa, and Greater Arabia</td>\n",
       "      <td>1921</td>\n",
       "      <td>662.40</td>\n",
       "    </tr>\n",
       "    <tr>\n",
       "      <th>...</th>\n",
       "      <td>...</td>\n",
       "      <td>...</td>\n",
       "      <td>...</td>\n",
       "      <td>...</td>\n",
       "    </tr>\n",
       "    <tr>\n",
       "      <th>4414</th>\n",
       "      <td>Zimbabwe</td>\n",
       "      <td>Sub-Saharan Africa</td>\n",
       "      <td>1991</td>\n",
       "      <td>782.09</td>\n",
       "    </tr>\n",
       "    <tr>\n",
       "      <th>4415</th>\n",
       "      <td>Zimbabwe</td>\n",
       "      <td>Sub-Saharan Africa</td>\n",
       "      <td>1996</td>\n",
       "      <td>781.50</td>\n",
       "    </tr>\n",
       "    <tr>\n",
       "      <th>4416</th>\n",
       "      <td>Zimbabwe</td>\n",
       "      <td>Sub-Saharan Africa</td>\n",
       "      <td>2001</td>\n",
       "      <td>719.96</td>\n",
       "    </tr>\n",
       "    <tr>\n",
       "      <th>4417</th>\n",
       "      <td>Zimbabwe</td>\n",
       "      <td>Sub-Saharan Africa</td>\n",
       "      <td>2006</td>\n",
       "      <td>520.17</td>\n",
       "    </tr>\n",
       "    <tr>\n",
       "      <th>4418</th>\n",
       "      <td>Zimbabwe</td>\n",
       "      <td>Sub-Saharan Africa</td>\n",
       "      <td>2011</td>\n",
       "      <td>526.33</td>\n",
       "    </tr>\n",
       "  </tbody>\n",
       "</table>\n",
       "<p>4419 rows × 4 columns</p>\n",
       "</div>"
      ],
      "text/plain": [
       "          Country                                         Region  Year  gdp_pp\n",
       "0     Afghanistan  Middle East, North Africa, and Greater Arabia  1901  613.99\n",
       "1     Afghanistan  Middle East, North Africa, and Greater Arabia  1906  624.04\n",
       "2     Afghanistan  Middle East, North Africa, and Greater Arabia  1911  634.25\n",
       "3     Afghanistan  Middle East, North Africa, and Greater Arabia  1916  647.28\n",
       "4     Afghanistan  Middle East, North Africa, and Greater Arabia  1921  662.40\n",
       "...           ...                                            ...   ...     ...\n",
       "4414     Zimbabwe                             Sub-Saharan Africa  1991  782.09\n",
       "4415     Zimbabwe                             Sub-Saharan Africa  1996  781.50\n",
       "4416     Zimbabwe                             Sub-Saharan Africa  2001  719.96\n",
       "4417     Zimbabwe                             Sub-Saharan Africa  2006  520.17\n",
       "4418     Zimbabwe                             Sub-Saharan Africa  2011  526.33\n",
       "\n",
       "[4419 rows x 4 columns]"
      ]
     },
     "execution_count": 242,
     "metadata": {},
     "output_type": "execute_result"
    }
   ],
   "source": [
    "df_gdp"
   ]
  },
  {
   "cell_type": "markdown",
   "id": "studied-validity",
   "metadata": {},
   "source": [
    "- Você conseguiria informar o primeiro valor registrado de cada país?"
   ]
  },
  {
   "cell_type": "code",
   "execution_count": 245,
   "id": "frequent-rental",
   "metadata": {},
   "outputs": [
    {
     "data": {
      "text/plain": [
       "Country\n",
       "Afghanistan    1901\n",
       "Albania        1901\n",
       "Algeria        1901\n",
       "Andorra        1901\n",
       "Angola         1901\n",
       "               ... \n",
       "Venezuela      1901\n",
       "Vietnam        1901\n",
       "Yemen, Rep.    1901\n",
       "Zambia         1901\n",
       "Zimbabwe       1901\n",
       "Name: Year, Length: 193, dtype: int64"
      ]
     },
     "execution_count": 245,
     "metadata": {},
     "output_type": "execute_result"
    }
   ],
   "source": [
    "df_gdp.groupby(\"Country\")[\"Year\"].min()"
   ]
  },
  {
   "cell_type": "code",
   "execution_count": 248,
   "id": "e46a20db",
   "metadata": {},
   "outputs": [
    {
     "data": {
      "text/plain": [
       "Country\n",
       "Kosovo    1991\n",
       "Name: Year, dtype: int64"
      ]
     },
     "execution_count": 248,
     "metadata": {},
     "output_type": "execute_result"
    }
   ],
   "source": [
    "df_gdp.groupby(\"Country\")[\"Year\"].min()[df_gdp.groupby(\"Country\")[\"Year\"].min()==1991]"
   ]
  },
  {
   "cell_type": "code",
   "execution_count": null,
   "id": "54c9d323",
   "metadata": {},
   "outputs": [],
   "source": []
  },
  {
   "cell_type": "markdown",
   "id": "tutorial-softball",
   "metadata": {},
   "source": [
    "- Informe as regiões com maiores crescimentos de PIB per capita no século passado."
   ]
  },
  {
   "cell_type": "code",
   "execution_count": 251,
   "id": "given-colorado",
   "metadata": {},
   "outputs": [],
   "source": [
    "df_gdp_start = df_gdp[df_gdp[\"Year\"] == 1901]\n",
    "df_gdp_end = df_gdp[df_gdp[\"Year\"] == 1996]\n"
   ]
  },
  {
   "cell_type": "code",
   "execution_count": 253,
   "id": "a582d7c7",
   "metadata": {},
   "outputs": [
    {
     "data": {
      "text/plain": [
       "Region\n",
       "Asia                                             8.117615\n",
       "Australia and Oceania                            4.960754\n",
       "Central America and the Caribbean                5.064268\n",
       "Europe                                           6.940462\n",
       "Middle East, North Africa, and Greater Arabia    9.572159\n",
       "North America                                    6.897602\n",
       "South America                                    4.121237\n",
       "Sub-Saharan Africa                               3.486338\n",
       "Name: gdp_pp, dtype: float64"
      ]
     },
     "execution_count": 253,
     "metadata": {},
     "output_type": "execute_result"
    }
   ],
   "source": [
    "df_gdp_end.groupby(\"Region\")[\"gdp_pp\"].mean() / df_gdp_start.groupby(\"Region\")[\"gdp_pp\"].mean()"
   ]
  },
  {
   "cell_type": "markdown",
   "id": "textile-afternoon",
   "metadata": {},
   "source": [
    "- Preecha os anos ausentes em cada país com uma estimativa, baseada na diferença entre o próximo registro e o anterior."
   ]
  },
  {
   "cell_type": "code",
   "execution_count": 258,
   "id": "hydraulic-confidentiality",
   "metadata": {},
   "outputs": [],
   "source": [
    "arr_year = np.arange(df_gdp[\"Year\"].min(), df_gdp[\"Year\"].max())\n",
    "df_all_years = pd.DataFrame(arr_year, columns=[\"Year\"])\n",
    "df_all_years.index = df_all_years[\"Year\"]\n",
    "\n",
    "df_years_off = df_all_years[\"Year\"].isin(df_gdp[\"Year\"])"
   ]
  },
  {
   "cell_type": "code",
   "execution_count": 259,
   "id": "03845eff",
   "metadata": {},
   "outputs": [
    {
     "data": {
      "text/html": [
       "<div>\n",
       "<style scoped>\n",
       "    .dataframe tbody tr th:only-of-type {\n",
       "        vertical-align: middle;\n",
       "    }\n",
       "\n",
       "    .dataframe tbody tr th {\n",
       "        vertical-align: top;\n",
       "    }\n",
       "\n",
       "    .dataframe thead th {\n",
       "        text-align: right;\n",
       "    }\n",
       "</style>\n",
       "<table border=\"1\" class=\"dataframe\">\n",
       "  <thead>\n",
       "    <tr style=\"text-align: right;\">\n",
       "      <th></th>\n",
       "      <th>Year</th>\n",
       "    </tr>\n",
       "    <tr>\n",
       "      <th>Year</th>\n",
       "      <th></th>\n",
       "    </tr>\n",
       "  </thead>\n",
       "  <tbody>\n",
       "    <tr>\n",
       "      <th>1901</th>\n",
       "      <td>1901</td>\n",
       "    </tr>\n",
       "    <tr>\n",
       "      <th>1902</th>\n",
       "      <td>1902</td>\n",
       "    </tr>\n",
       "    <tr>\n",
       "      <th>1903</th>\n",
       "      <td>1903</td>\n",
       "    </tr>\n",
       "    <tr>\n",
       "      <th>1904</th>\n",
       "      <td>1904</td>\n",
       "    </tr>\n",
       "    <tr>\n",
       "      <th>1905</th>\n",
       "      <td>1905</td>\n",
       "    </tr>\n",
       "    <tr>\n",
       "      <th>...</th>\n",
       "      <td>...</td>\n",
       "    </tr>\n",
       "    <tr>\n",
       "      <th>2006</th>\n",
       "      <td>2006</td>\n",
       "    </tr>\n",
       "    <tr>\n",
       "      <th>2007</th>\n",
       "      <td>2007</td>\n",
       "    </tr>\n",
       "    <tr>\n",
       "      <th>2008</th>\n",
       "      <td>2008</td>\n",
       "    </tr>\n",
       "    <tr>\n",
       "      <th>2009</th>\n",
       "      <td>2009</td>\n",
       "    </tr>\n",
       "    <tr>\n",
       "      <th>2010</th>\n",
       "      <td>2010</td>\n",
       "    </tr>\n",
       "  </tbody>\n",
       "</table>\n",
       "<p>110 rows × 1 columns</p>\n",
       "</div>"
      ],
      "text/plain": [
       "      Year\n",
       "Year      \n",
       "1901  1901\n",
       "1902  1902\n",
       "1903  1903\n",
       "1904  1904\n",
       "1905  1905\n",
       "...    ...\n",
       "2006  2006\n",
       "2007  2007\n",
       "2008  2008\n",
       "2009  2009\n",
       "2010  2010\n",
       "\n",
       "[110 rows x 1 columns]"
      ]
     },
     "execution_count": 259,
     "metadata": {},
     "output_type": "execute_result"
    }
   ],
   "source": [
    "df_all_years\n"
   ]
  }
 ],
 "metadata": {
  "kernelspec": {
   "display_name": "Python 3",
   "language": "python",
   "name": "python3"
  },
  "language_info": {
   "codemirror_mode": {
    "name": "ipython",
    "version": 3
   },
   "file_extension": ".py",
   "mimetype": "text/x-python",
   "name": "python",
   "nbconvert_exporter": "python",
   "pygments_lexer": "ipython3",
   "version": "3.11.7"
  }
 },
 "nbformat": 4,
 "nbformat_minor": 5
}
